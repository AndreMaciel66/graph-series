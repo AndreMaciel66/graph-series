{
 "cells": [
  {
   "cell_type": "markdown",
   "metadata": {},
   "source": [
    "## Directed graph (Flow Graph) example\n",
    "### in Python, using NetworkX, Pandas and Matplotlib\n",
    "* Author: André Maciel\n",
    "* Date: 2019-07-26"
   ]
  },
  {
   "cell_type": "code",
   "execution_count": 62,
   "metadata": {},
   "outputs": [],
   "source": [
    "import pandas as pd\n",
    "import numpy as np\n",
    "import networkx as nx"
   ]
  },
  {
   "cell_type": "markdown",
   "metadata": {},
   "source": [
    "### Dataset:\n",
    "In a recently research I found great **dataset** containing lat/long.\n",
    "\n",
    "You can find the dataset in this link below:\n",
    "- [Kelvins Repo](https://github.com/kelvins/Municipios-Brasileiros)\n",
    "\n",
    "I've converted csv in xlsx file and moved to root notebook folder."
   ]
  },
  {
   "cell_type": "code",
   "execution_count": 74,
   "metadata": {},
   "outputs": [
    {
     "data": {
      "text/html": [
       "<div>\n",
       "<style scoped>\n",
       "    .dataframe tbody tr th:only-of-type {\n",
       "        vertical-align: middle;\n",
       "    }\n",
       "\n",
       "    .dataframe tbody tr th {\n",
       "        vertical-align: top;\n",
       "    }\n",
       "\n",
       "    .dataframe thead th {\n",
       "        text-align: right;\n",
       "    }\n",
       "</style>\n",
       "<table border=\"1\" class=\"dataframe\">\n",
       "  <thead>\n",
       "    <tr style=\"text-align: right;\">\n",
       "      <th></th>\n",
       "      <th>codigo_ibge</th>\n",
       "      <th>nome</th>\n",
       "      <th>latitude</th>\n",
       "      <th>longitude</th>\n",
       "      <th>capital</th>\n",
       "      <th>codigo_uf</th>\n",
       "    </tr>\n",
       "  </thead>\n",
       "  <tbody>\n",
       "    <tr>\n",
       "      <th>0</th>\n",
       "      <td>5200050</td>\n",
       "      <td>Abadia de Goiás</td>\n",
       "      <td>-167573.0</td>\n",
       "      <td>-494412.0</td>\n",
       "      <td>0</td>\n",
       "      <td>52</td>\n",
       "    </tr>\n",
       "    <tr>\n",
       "      <th>1</th>\n",
       "      <td>3100104</td>\n",
       "      <td>Abadia dos Dourados</td>\n",
       "      <td>-184831.0</td>\n",
       "      <td>-473916.0</td>\n",
       "      <td>0</td>\n",
       "      <td>31</td>\n",
       "    </tr>\n",
       "    <tr>\n",
       "      <th>2</th>\n",
       "      <td>5200100</td>\n",
       "      <td>Abadiânia</td>\n",
       "      <td>-16197.0</td>\n",
       "      <td>-487057.0</td>\n",
       "      <td>0</td>\n",
       "      <td>52</td>\n",
       "    </tr>\n",
       "    <tr>\n",
       "      <th>3</th>\n",
       "      <td>3100203</td>\n",
       "      <td>Abaeté</td>\n",
       "      <td>-191551.0</td>\n",
       "      <td>-454444.0</td>\n",
       "      <td>0</td>\n",
       "      <td>31</td>\n",
       "    </tr>\n",
       "    <tr>\n",
       "      <th>4</th>\n",
       "      <td>1500107</td>\n",
       "      <td>Abaetetuba</td>\n",
       "      <td>-172183.0</td>\n",
       "      <td>-488788.0</td>\n",
       "      <td>0</td>\n",
       "      <td>15</td>\n",
       "    </tr>\n",
       "  </tbody>\n",
       "</table>\n",
       "</div>"
      ],
      "text/plain": [
       "   codigo_ibge                 nome  latitude  longitude  capital  codigo_uf\n",
       "0      5200050      Abadia de Goiás -167573.0  -494412.0        0         52\n",
       "1      3100104  Abadia dos Dourados -184831.0  -473916.0        0         31\n",
       "2      5200100            Abadiânia  -16197.0  -487057.0        0         52\n",
       "3      3100203               Abaeté -191551.0  -454444.0        0         31\n",
       "4      1500107           Abaetetuba -172183.0  -488788.0        0         15"
      ]
     },
     "execution_count": 74,
     "metadata": {},
     "output_type": "execute_result"
    }
   ],
   "source": [
    "# I found this dataset in Kelvins's repo\n",
    "municipios = pd.read_excel('municipios.xlsx')\n",
    "municipios.head()"
   ]
  },
  {
   "cell_type": "code",
   "execution_count": 75,
   "metadata": {},
   "outputs": [
    {
     "data": {
      "text/plain": [
       "(5570, 6)"
      ]
     },
     "execution_count": 75,
     "metadata": {},
     "output_type": "execute_result"
    }
   ],
   "source": [
    "municipios.shape"
   ]
  },
  {
   "cell_type": "code",
   "execution_count": 80,
   "metadata": {},
   "outputs": [
    {
     "data": {
      "text/html": [
       "<div>\n",
       "<style scoped>\n",
       "    .dataframe tbody tr th:only-of-type {\n",
       "        vertical-align: middle;\n",
       "    }\n",
       "\n",
       "    .dataframe tbody tr th {\n",
       "        vertical-align: top;\n",
       "    }\n",
       "\n",
       "    .dataframe thead th {\n",
       "        text-align: right;\n",
       "    }\n",
       "</style>\n",
       "<table border=\"1\" class=\"dataframe\">\n",
       "  <thead>\n",
       "    <tr style=\"text-align: right;\">\n",
       "      <th></th>\n",
       "      <th>codigo_ibge</th>\n",
       "      <th>nome</th>\n",
       "      <th>latitude</th>\n",
       "      <th>longitude</th>\n",
       "      <th>capital</th>\n",
       "      <th>codigo_uf</th>\n",
       "    </tr>\n",
       "  </thead>\n",
       "  <tbody>\n",
       "    <tr>\n",
       "      <th>0</th>\n",
       "      <td>3100104</td>\n",
       "      <td>Abadia dos Dourados</td>\n",
       "      <td>-184831.0</td>\n",
       "      <td>-473916.0</td>\n",
       "      <td>0</td>\n",
       "      <td>31</td>\n",
       "    </tr>\n",
       "    <tr>\n",
       "      <th>1</th>\n",
       "      <td>3100203</td>\n",
       "      <td>Abaeté</td>\n",
       "      <td>-191551.0</td>\n",
       "      <td>-454444.0</td>\n",
       "      <td>0</td>\n",
       "      <td>31</td>\n",
       "    </tr>\n",
       "    <tr>\n",
       "      <th>2</th>\n",
       "      <td>3100302</td>\n",
       "      <td>Abre Campo</td>\n",
       "      <td>-202996.0</td>\n",
       "      <td>-424743.0</td>\n",
       "      <td>0</td>\n",
       "      <td>31</td>\n",
       "    </tr>\n",
       "    <tr>\n",
       "      <th>3</th>\n",
       "      <td>3100401</td>\n",
       "      <td>Acaiaca</td>\n",
       "      <td>-20359.0</td>\n",
       "      <td>-431439.0</td>\n",
       "      <td>0</td>\n",
       "      <td>31</td>\n",
       "    </tr>\n",
       "    <tr>\n",
       "      <th>4</th>\n",
       "      <td>3100500</td>\n",
       "      <td>Açucena</td>\n",
       "      <td>-190671.0</td>\n",
       "      <td>-425419.0</td>\n",
       "      <td>0</td>\n",
       "      <td>31</td>\n",
       "    </tr>\n",
       "  </tbody>\n",
       "</table>\n",
       "</div>"
      ],
      "text/plain": [
       "   codigo_ibge                 nome  latitude  longitude  capital  codigo_uf\n",
       "0      3100104  Abadia dos Dourados -184831.0  -473916.0        0         31\n",
       "1      3100203               Abaeté -191551.0  -454444.0        0         31\n",
       "2      3100302           Abre Campo -202996.0  -424743.0        0         31\n",
       "3      3100401              Acaiaca  -20359.0  -431439.0        0         31\n",
       "4      3100500              Açucena -190671.0  -425419.0        0         31"
      ]
     },
     "execution_count": 80,
     "metadata": {},
     "output_type": "execute_result"
    }
   ],
   "source": [
    "# filter just state minas gerais, cod = 31\n",
    "municipios_mg = municipios[municipios.codigo_uf == 31].reset_index(drop=True)\n",
    "municipios_mg.head(5)"
   ]
  },
  {
   "cell_type": "code",
   "execution_count": 82,
   "metadata": {},
   "outputs": [
    {
     "data": {
      "text/html": [
       "<div>\n",
       "<style scoped>\n",
       "    .dataframe tbody tr th:only-of-type {\n",
       "        vertical-align: middle;\n",
       "    }\n",
       "\n",
       "    .dataframe tbody tr th {\n",
       "        vertical-align: top;\n",
       "    }\n",
       "\n",
       "    .dataframe thead th {\n",
       "        text-align: right;\n",
       "    }\n",
       "</style>\n",
       "<table border=\"1\" class=\"dataframe\">\n",
       "  <thead>\n",
       "    <tr style=\"text-align: right;\">\n",
       "      <th></th>\n",
       "      <th>codigo_ibge</th>\n",
       "      <th>nome</th>\n",
       "      <th>latitude</th>\n",
       "      <th>longitude</th>\n",
       "      <th>capital</th>\n",
       "      <th>codigo_uf</th>\n",
       "    </tr>\n",
       "  </thead>\n",
       "  <tbody>\n",
       "    <tr>\n",
       "      <th>0</th>\n",
       "      <td>3100104</td>\n",
       "      <td>Abadia dos Dourados</td>\n",
       "      <td>-184831.0</td>\n",
       "      <td>-473916.0</td>\n",
       "      <td>0</td>\n",
       "      <td>31</td>\n",
       "    </tr>\n",
       "    <tr>\n",
       "      <th>1</th>\n",
       "      <td>3100203</td>\n",
       "      <td>Abaeté</td>\n",
       "      <td>-191551.0</td>\n",
       "      <td>-454444.0</td>\n",
       "      <td>0</td>\n",
       "      <td>31</td>\n",
       "    </tr>\n",
       "    <tr>\n",
       "      <th>2</th>\n",
       "      <td>3100302</td>\n",
       "      <td>Abre Campo</td>\n",
       "      <td>-202996.0</td>\n",
       "      <td>-424743.0</td>\n",
       "      <td>0</td>\n",
       "      <td>31</td>\n",
       "    </tr>\n",
       "    <tr>\n",
       "      <th>3</th>\n",
       "      <td>3100401</td>\n",
       "      <td>Acaiaca</td>\n",
       "      <td>-20359.0</td>\n",
       "      <td>-431439.0</td>\n",
       "      <td>0</td>\n",
       "      <td>31</td>\n",
       "    </tr>\n",
       "    <tr>\n",
       "      <th>4</th>\n",
       "      <td>3100500</td>\n",
       "      <td>Açucena</td>\n",
       "      <td>-190671.0</td>\n",
       "      <td>-425419.0</td>\n",
       "      <td>0</td>\n",
       "      <td>31</td>\n",
       "    </tr>\n",
       "  </tbody>\n",
       "</table>\n",
       "</div>"
      ],
      "text/plain": [
       "   codigo_ibge                 nome  latitude  longitude  capital  codigo_uf\n",
       "0      3100104  Abadia dos Dourados -184831.0  -473916.0        0         31\n",
       "1      3100203               Abaeté -191551.0  -454444.0        0         31\n",
       "2      3100302           Abre Campo -202996.0  -424743.0        0         31\n",
       "3      3100401              Acaiaca  -20359.0  -431439.0        0         31\n",
       "4      3100500              Açucena -190671.0  -425419.0        0         31"
      ]
     },
     "execution_count": 82,
     "metadata": {},
     "output_type": "execute_result"
    }
   ],
   "source": [
    "# here is my nodes/edges inputs to build the Graph\n",
    "nodes = municipios_mg\n",
    "\n",
    "# now I get the range of nodes, I will use to create a random flow between this nodes below\n",
    "nodes_count = nodes.shape[0]\n",
    "nodes.head(5)"
   ]
  },
  {
   "cell_type": "code",
   "execution_count": 93,
   "metadata": {},
   "outputs": [
    {
     "data": {
      "text/html": [
       "<div>\n",
       "<style scoped>\n",
       "    .dataframe tbody tr th:only-of-type {\n",
       "        vertical-align: middle;\n",
       "    }\n",
       "\n",
       "    .dataframe tbody tr th {\n",
       "        vertical-align: top;\n",
       "    }\n",
       "\n",
       "    .dataframe thead th {\n",
       "        text-align: right;\n",
       "    }\n",
       "</style>\n",
       "<table border=\"1\" class=\"dataframe\">\n",
       "  <thead>\n",
       "    <tr style=\"text-align: right;\">\n",
       "      <th></th>\n",
       "      <th>Source</th>\n",
       "      <th>Target</th>\n",
       "    </tr>\n",
       "  </thead>\n",
       "  <tbody>\n",
       "    <tr>\n",
       "      <th>0</th>\n",
       "      <td>156</td>\n",
       "      <td>139</td>\n",
       "    </tr>\n",
       "    <tr>\n",
       "      <th>1</th>\n",
       "      <td>739</td>\n",
       "      <td>620</td>\n",
       "    </tr>\n",
       "    <tr>\n",
       "      <th>2</th>\n",
       "      <td>805</td>\n",
       "      <td>146</td>\n",
       "    </tr>\n",
       "    <tr>\n",
       "      <th>3</th>\n",
       "      <td>22</td>\n",
       "      <td>163</td>\n",
       "    </tr>\n",
       "    <tr>\n",
       "      <th>4</th>\n",
       "      <td>829</td>\n",
       "      <td>63</td>\n",
       "    </tr>\n",
       "  </tbody>\n",
       "</table>\n",
       "</div>"
      ],
      "text/plain": [
       "   Source  Target\n",
       "0     156     139\n",
       "1     739     620\n",
       "2     805     146\n",
       "3      22     163\n",
       "4     829      63"
      ]
     },
     "execution_count": 93,
     "metadata": {},
     "output_type": "execute_result"
    }
   ],
   "source": [
    "# Random edges(source -> target), base to create a directed graph\n",
    "# mind the size, I'm using just 15 rows/flows, to plot the graph below (matplotlib)\n",
    "# but in real situation this shape should be expressive bigger\n",
    "edges = pd.DataFrame(np.random.randint(0, nodes_count, size=(15, 2)), columns=['Source','Target'])\n",
    "edges.head(5)"
   ]
  },
  {
   "cell_type": "code",
   "execution_count": 85,
   "metadata": {},
   "outputs": [
    {
     "data": {
      "text/html": [
       "<div>\n",
       "<style scoped>\n",
       "    .dataframe tbody tr th:only-of-type {\n",
       "        vertical-align: middle;\n",
       "    }\n",
       "\n",
       "    .dataframe tbody tr th {\n",
       "        vertical-align: top;\n",
       "    }\n",
       "\n",
       "    .dataframe thead th {\n",
       "        text-align: right;\n",
       "    }\n",
       "</style>\n",
       "<table border=\"1\" class=\"dataframe\">\n",
       "  <thead>\n",
       "    <tr style=\"text-align: right;\">\n",
       "      <th></th>\n",
       "      <th>Source</th>\n",
       "      <th>Target</th>\n",
       "      <th>SourceName</th>\n",
       "      <th>TargetName</th>\n",
       "    </tr>\n",
       "  </thead>\n",
       "  <tbody>\n",
       "    <tr>\n",
       "      <th>0</th>\n",
       "      <td>652</td>\n",
       "      <td>434</td>\n",
       "      <td>Rochedo de Minas</td>\n",
       "      <td>Lassance</td>\n",
       "    </tr>\n",
       "    <tr>\n",
       "      <th>1</th>\n",
       "      <td>158</td>\n",
       "      <td>641</td>\n",
       "      <td>Carneirinho</td>\n",
       "      <td>Rio Doce</td>\n",
       "    </tr>\n",
       "    <tr>\n",
       "      <th>2</th>\n",
       "      <td>77</td>\n",
       "      <td>136</td>\n",
       "      <td>Bocaiúva</td>\n",
       "      <td>Capim Branco</td>\n",
       "    </tr>\n",
       "    <tr>\n",
       "      <th>3</th>\n",
       "      <td>168</td>\n",
       "      <td>667</td>\n",
       "      <td>Catuji</td>\n",
       "      <td>Santa Cruz de Minas</td>\n",
       "    </tr>\n",
       "    <tr>\n",
       "      <th>4</th>\n",
       "      <td>541</td>\n",
       "      <td>244</td>\n",
       "      <td>Padre Carvalho</td>\n",
       "      <td>Divino</td>\n",
       "    </tr>\n",
       "  </tbody>\n",
       "</table>\n",
       "</div>"
      ],
      "text/plain": [
       "   Source  Target        SourceName           TargetName\n",
       "0     652     434  Rochedo de Minas             Lassance\n",
       "1     158     641       Carneirinho             Rio Doce\n",
       "2      77     136          Bocaiúva         Capim Branco\n",
       "3     168     667            Catuji  Santa Cruz de Minas\n",
       "4     541     244    Padre Carvalho               Divino"
      ]
     },
     "execution_count": 85,
     "metadata": {},
     "output_type": "execute_result"
    }
   ],
   "source": [
    "# get SourceName\n",
    "edges = edges.merge(nodes.nome\n",
    "           , how='left'\n",
    "           , left_on='Source'\n",
    "           , right_on=nodes.index)\n",
    "edges = edges.rename(index=str, columns={'nome':'SourceName'})\n",
    "\n",
    "# get TargetName\n",
    "edges = edges.merge(nodes.nome\n",
    "           , how='left'\n",
    "           , left_on='Target'\n",
    "           , right_on=nodes.index)\n",
    "edges = edges.rename(index=str, columns={'nome':'TargetName'})\n",
    "\n",
    "edges.head()"
   ]
  },
  {
   "cell_type": "code",
   "execution_count": 94,
   "metadata": {},
   "outputs": [],
   "source": [
    "# Create graph from pandas DataFrame\n",
    "G = nx.convert_matrix.from_pandas_edgelist(edges\n",
    "                                       , source='Source'\n",
    "                                       , target='Target'\n",
    "                                       , create_using=nx.DiGraph)"
   ]
  },
  {
   "cell_type": "code",
   "execution_count": 95,
   "metadata": {},
   "outputs": [],
   "source": [
    "# Here is use a list of compreension to get just roots\n",
    "roots = (v for v, d in G.in_degree() if d == 0)\n",
    "\n",
    "# Here is use a list of compreension to get just leaves\n",
    "leaves = (v for v, d in G.out_degree() if d == 0)"
   ]
  },
  {
   "cell_type": "markdown",
   "metadata": {},
   "source": [
    "### This script below is not working properly yet, I'm reading oficial documentation of [all_simple_paths](https://networkx.github.io/documentation/latest/reference/algorithms/generated/networkx.algorithms.simple_paths.all_simple_paths.html)."
   ]
  },
  {
   "cell_type": "code",
   "execution_count": 96,
   "metadata": {},
   "outputs": [
    {
     "data": {
      "text/plain": [
       "[[156, 139]]"
      ]
     },
     "execution_count": 96,
     "metadata": {},
     "output_type": "execute_result"
    }
   ],
   "source": [
    "all_paths = []\n",
    "for root in roots:\n",
    "    for leaf in leaves:\n",
    "        paths = nx.all_simple_paths(G, root, leaf)\n",
    "        all_paths.extend(paths)\n",
    "\n",
    "all_paths"
   ]
  },
  {
   "cell_type": "code",
   "execution_count": 97,
   "metadata": {},
   "outputs": [],
   "source": [
    "import matplotlib.pyplot as plt"
   ]
  },
  {
   "cell_type": "code",
   "execution_count": 98,
   "metadata": {},
   "outputs": [
    {
     "data": {
      "image/png": "[encoded data removed]",
      "text/plain": [
       "<Figure size 432x288 with 1 Axes>"
      ]
     },
     "metadata": {},
     "output_type": "display_data"
    }
   ],
   "source": [
    "a = nx.draw(G, arrows=True, with_labels=True, node_color='yellow')\n",
    "plt.draw()"
   ]
  },
  {
   "cell_type": "code",
   "execution_count": 91,
   "metadata": {},
   "outputs": [
    {
     "data": {
      "text/plain": [
       "\u001b[1;31mSignature:\u001b[0m\n",
       "\u001b[0mnx\u001b[0m\u001b[1;33m.\u001b[0m\u001b[0mdraw_networkx_nodes\u001b[0m\u001b[1;33m(\u001b[0m\u001b[1;33m\n",
       "\u001b[0m    \u001b[0mG\u001b[0m\u001b[1;33m,\u001b[0m\u001b[1;33m\n",
       "\u001b[0m    \u001b[0mpos\u001b[0m\u001b[1;33m,\u001b[0m\u001b[1;33m\n",
       "\u001b[0m    \u001b[0mnodelist\u001b[0m\u001b[1;33m=\u001b[0m\u001b[1;32mNone\u001b[0m\u001b[1;33m,\u001b[0m\u001b[1;33m\n",
       "\u001b[0m    \u001b[0mnode_size\u001b[0m\u001b[1;33m=\u001b[0m\u001b[1;36m300\u001b[0m\u001b[1;33m,\u001b[0m\u001b[1;33m\n",
       "\u001b[0m    \u001b[0mnode_color\u001b[0m\u001b[1;33m=\u001b[0m\u001b[1;34m'#1f78b4'\u001b[0m\u001b[1;33m,\u001b[0m\u001b[1;33m\n",
       "\u001b[0m    \u001b[0mnode_shape\u001b[0m\u001b[1;33m=\u001b[0m\u001b[1;34m'o'\u001b[0m\u001b[1;33m,\u001b[0m\u001b[1;33m\n",
       "\u001b[0m    \u001b[0malpha\u001b[0m\u001b[1;33m=\u001b[0m\u001b[1;36m1.0\u001b[0m\u001b[1;33m,\u001b[0m\u001b[1;33m\n",
       "\u001b[0m    \u001b[0mcmap\u001b[0m\u001b[1;33m=\u001b[0m\u001b[1;32mNone\u001b[0m\u001b[1;33m,\u001b[0m\u001b[1;33m\n",
       "\u001b[0m    \u001b[0mvmin\u001b[0m\u001b[1;33m=\u001b[0m\u001b[1;32mNone\u001b[0m\u001b[1;33m,\u001b[0m\u001b[1;33m\n",
       "\u001b[0m    \u001b[0mvmax\u001b[0m\u001b[1;33m=\u001b[0m\u001b[1;32mNone\u001b[0m\u001b[1;33m,\u001b[0m\u001b[1;33m\n",
       "\u001b[0m    \u001b[0max\u001b[0m\u001b[1;33m=\u001b[0m\u001b[1;32mNone\u001b[0m\u001b[1;33m,\u001b[0m\u001b[1;33m\n",
       "\u001b[0m    \u001b[0mlinewidths\u001b[0m\u001b[1;33m=\u001b[0m\u001b[1;32mNone\u001b[0m\u001b[1;33m,\u001b[0m\u001b[1;33m\n",
       "\u001b[0m    \u001b[0medgecolors\u001b[0m\u001b[1;33m=\u001b[0m\u001b[1;32mNone\u001b[0m\u001b[1;33m,\u001b[0m\u001b[1;33m\n",
       "\u001b[0m    \u001b[0mlabel\u001b[0m\u001b[1;33m=\u001b[0m\u001b[1;32mNone\u001b[0m\u001b[1;33m,\u001b[0m\u001b[1;33m\n",
       "\u001b[0m    \u001b[1;33m**\u001b[0m\u001b[0mkwds\u001b[0m\u001b[1;33m,\u001b[0m\u001b[1;33m\n",
       "\u001b[0m\u001b[1;33m)\u001b[0m\u001b[1;33m\u001b[0m\u001b[1;33m\u001b[0m\u001b[0m\n",
       "\u001b[1;31mDocstring:\u001b[0m\n",
       "Draw the nodes of the graph G.\n",
       "\n",
       "This draws only the nodes of the graph G.\n",
       "\n",
       "Parameters\n",
       "----------\n",
       "G : graph\n",
       "   A networkx graph\n",
       "\n",
       "pos : dictionary\n",
       "   A dictionary with nodes as keys and positions as values.\n",
       "   Positions should be sequences of length 2.\n",
       "\n",
       "ax : Matplotlib Axes object, optional\n",
       "   Draw the graph in the specified Matplotlib axes.\n",
       "\n",
       "nodelist : list, optional\n",
       "   Draw only specified nodes (default G.nodes())\n",
       "\n",
       "node_size : scalar or array\n",
       "   Size of nodes (default=300).  If an array is specified it must be the\n",
       "   same length as nodelist.\n",
       "\n",
       "node_color : color string, or array of floats\n",
       "   Node color. Can be a single color format string (default='#1f78b4'),\n",
       "   or a  sequence of colors with the same length as nodelist.\n",
       "   If numeric values are specified they will be mapped to\n",
       "   colors using the cmap and vmin,vmax parameters.  See\n",
       "   matplotlib.scatter for more details.\n",
       "\n",
       "node_shape :  string\n",
       "   The shape of the node.  Specification is as matplotlib.scatter\n",
       "   marker, one of 'so^>v<dph8' (default='o').\n",
       "\n",
       "alpha : float or array of floats\n",
       "   The node transparency.  This can be a single alpha value (default=1.0),\n",
       "   in which case it will be applied to all the nodes of color. Otherwise,\n",
       "   if it is an array, the elements of alpha will be applied to the colors\n",
       "   in order (cycling through alpha multiple times if necessary).\n",
       "\n",
       "cmap : Matplotlib colormap\n",
       "   Colormap for mapping intensities of nodes (default=None)\n",
       "\n",
       "vmin,vmax : floats\n",
       "   Minimum and maximum for node colormap scaling (default=None)\n",
       "\n",
       "linewidths : [None | scalar | sequence]\n",
       "   Line width of symbol border (default =1.0)\n",
       "\n",
       "edgecolors : [None | scalar | sequence]\n",
       "   Colors of node borders (default = node_color)\n",
       "\n",
       "label : [None| string]\n",
       "   Label for legend\n",
       "\n",
       "Returns\n",
       "-------\n",
       "matplotlib.collections.PathCollection\n",
       "    `PathCollection` of the nodes.\n",
       "\n",
       "Examples\n",
       "--------\n",
       ">>> G = nx.dodecahedral_graph()\n",
       ">>> nodes = nx.draw_networkx_nodes(G, pos=nx.spring_layout(G))\n",
       "\n",
       "Also see the NetworkX drawing examples at\n",
       "https://networkx.github.io/documentation/latest/auto_examples/index.html\n",
       "\n",
       "See Also\n",
       "--------\n",
       "draw()\n",
       "draw_networkx()\n",
       "draw_networkx_edges()\n",
       "draw_networkx_labels()\n",
       "draw_networkx_edge_labels()\n",
       "\u001b[1;31mFile:\u001b[0m      c:\\users\\cicatr1z66\\anaconda3\\envs\\home\\lib\\site-packages\\networkx\\drawing\\nx_pylab.py\n",
       "\u001b[1;31mType:\u001b[0m      function\n"
      ]
     },
     "metadata": {},
     "output_type": "display_data"
    }
   ],
   "source": [
    "nx.draw_networkx_nodes?"
   ]
  }
 ],
 "metadata": {
  "kernelspec": {
   "display_name": "Python 3",
   "language": "python",
   "name": "python3"
  },
  "language_info": {
   "codemirror_mode": {
    "name": "ipython",
    "version": 3
   },
   "file_extension": ".py",
   "mimetype": "text/x-python",
   "name": "python",
   "nbconvert_exporter": "python",
   "pygments_lexer": "ipython3",
   "version": "3.7.3"
  }
 },
 "nbformat": 4,
 "nbformat_minor": 4
}
